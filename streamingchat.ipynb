{
 "cells": [
  {
   "cell_type": "code",
   "execution_count": 2,
   "metadata": {},
   "outputs": [
    {
     "name": "stdout",
     "output_type": "stream",
     "text": [
      "휴대폰은 현대 사회에서 필수품으로 자리잡았다. 우리는 휴대폰을 통해 소통하고 정보를 얻으며, 업무를 처리하고 놀이를 즐긴다. 하지만 휴대폰이 우리 삶에 미치는 영향은 그것만으로 끝나지 않는다.\n",
      "\n",
      "휴대폰은 우리의 삶을 편리하게 만들어주지만, 동시에 의존성을 일으키기도 한다. 사람들은 휴대폰 없이는 살 수 없다고 느끼게 되고, 소통이나 정보 획득을 위해 항상 휴대폰을 손에 쥐고 다닌다. 이로 인해 현실 세계와의 연결이 떨어지고, 소통 능력이 떨어지는 등 부작용도 발생할 수 있다.\n",
      "\n",
      "또한 휴대폰은 개인 정보 보호에도 취약한 면이 있다. 해커나 악의적인 소프트웨어에 의해 개인 정보가 유출될 수 있고, 스마트폰 중독으로 인해 사생활이 침해될 수도 있다.\n",
      "\n",
      "하지만 휴대폰이라는 도구는 우리가 올바르게 활용한다면 많은 혜택을 줄 수 있다. 소통이 원활해지고 정보 접근이 쉬워지며, 업무 효율도 향상된다. 따라서 우리는 휴대폰을 올바르게 활용하고, 그 안에서의 적절한 균형을 유지하는 것이 중요하다."
     ]
    }
   ],
   "source": [
    "from langchain_core.output_parsers import StrOutputParser\n",
    "from langchain.chat_models import ChatOpenAI\n",
    "from langchain_core.prompts import ChatPromptTemplate\n",
    "\n",
    "model = ChatOpenAI(\n",
    "            temperature=0,\n",
    "            max_tokens=2048,\n",
    "            model_name='gpt-3.5-turbo'\n",
    "        )\n",
    "prompt = ChatPromptTemplate.from_template(\"{topic}에 대해 300자 내외의 에세이를 작성해줘\")\n",
    "parser = StrOutputParser()\n",
    "chain = prompt | model | parser\n",
    "\n",
    "async for chunk in chain.astream({\"topic\": \"휴대폰\"}):\n",
    "    print(chunk, end=\"\", flush=True)\n"
   ]
  },
  {
   "cell_type": "code",
   "execution_count": 11,
   "metadata": {},
   "outputs": [
    {
     "name": "stdout",
     "output_type": "stream",
     "text": [
      "휴대폰은 현대 사회에서 필수품으로 자리잡았다. 우리는 휴대폰을 통해 소통하고 정보를 얻으며, 업무를 처리하고 놀이를 즐긴다. 휴대폰은 우리의 일상생활을 편리하게 해주는 도구이자, 불가결한 존재이다.\n",
      "\n",
      "하지만 휴대폰은 무분별한 사용으로 인해 우리의 삶에 부정적인 영향을 미칠 수도 있다. 스마트폰 중독, 사생활 침해, 사회적 관계의 소외 등의 문제가 발생할 수 있다. 따라서 우리는 적절한 휴대폰 사용법을 습관화해야 한다.\n",
      "\n",
      "휴대폰은 우리에게 무한한 정보와 편의성을 제공해주지만, 그것이 우리의 삶을 지배하게 두면 안 된다. 우리는 휴대폰을 적절히 활용하면서도 현실과의 균형을 유지해야 한다. 휴대폰은 우리의 도구일 뿐, 우리의 삶을 대체해서는 안 된다. 그저 우리의 삶을 더욱 풍요롭게 만들어주는 한 가지 수단에 불과하다."
     ]
    }
   ],
   "source": [
    "async for chunk in chain.astream({\"topic\": \"휴대폰\"}):\n",
    "    print(chunk, end=\"\", flush=True)"
   ]
  },
  {
   "cell_type": "code",
   "execution_count": 12,
   "metadata": {},
   "outputs": [
    {
     "name": "stdout",
     "output_type": "stream",
     "text": [
      "휴대폰은 현대 사회에서 필수품으로 자리잡았다. 우리는 휴대폰을 통해 소통하고 정보를 얻으며, 업무를 처리하고 놀이를 즐긴다. 휴대폰은 우리의 일상생활을 편리하게 해주는 도구이자, 불가결한 존재이다.\n",
      "\n",
      "하지만 휴대폰은 무한한 편의성과 함께 부정적인 면도 가지고 있다. 스마트폰 중독, 개인정보 유출, 사생활 침해 등의 문제가 발생하고 있다. 특히, 소셜미디어의 확대로 인해 사람들은 현실과 가상 세계를 혼동하기 쉽다.\n",
      "\n",
      "따라서 우리는 휴대폰을 올바르게 활용해야 한다. 휴대폰은 우리의 도구일 뿐이며, 우리의 삶을 지배해서는 안 된다. 휴대폰을 통해 소통하고 정보를 얻는 것은 중요하지만, 현실과 가상을 분명히 구분해야 한다.\n",
      "\n",
      "휴대폰은 우리의 삶을 더욱 편리하게 해주는 도구이지만, 그것이 우리를 지배하게 두면 안 된다. 올바른 사용법을 습득하고, 휴대폰을 통해 더 나은 삶을 살아가야 한다.\n"
     ]
    }
   ],
   "source": [
    "print(chain.invoke({\"topic\": \"휴대폰\"}))"
   ]
  }
 ],
 "metadata": {
  "kernelspec": {
   "display_name": "Python 3",
   "language": "python",
   "name": "python3"
  },
  "language_info": {
   "codemirror_mode": {
    "name": "ipython",
    "version": 3
   },
   "file_extension": ".py",
   "mimetype": "text/x-python",
   "name": "python",
   "nbconvert_exporter": "python",
   "pygments_lexer": "ipython3",
   "version": "3.11.6"
  }
 },
 "nbformat": 4,
 "nbformat_minor": 2
}
